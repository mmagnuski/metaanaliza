{
 "cells": [
  {
   "cell_type": "markdown",
   "metadata": {},
   "source": [
    "# Tematyka\n",
    "Tematem metaanalizy jest wpływ oscylacji mózgowych z czasu przed zaprezentowaniem bodźca na skutecznośc jego percepcji (np. poprawność czy szybkość reakcji). Skupiłem się na jednym paśmie częstotliwościowym - paśmie `alfa` (ok `8 - 12 Hz`), które wiąże się niekorzystnie z przetworzeniem bodźca. Tzn. prezentacje bodźca przed którymi w mózgu (np. w okolicach ciemieniowych) osoby badanej była wysoka amplituda oscylacji alfa kończą się częściej niepoprawnymi, albo wolniejszymi reakcjami."
   ]
  },
  {
   "cell_type": "markdown",
   "metadata": {},
   "source": [
    "## Przygotowania\n",
    "Instaluję potrzebne pakiety (`meta`, `metafor` - do metaanalizy oraz `XLSOConnect` aby wczytać dane zapisane w excelu) i wczytuję dane:"
   ]
  },
  {
   "cell_type": "code",
   "execution_count": 8,
   "metadata": {
    "collapsed": false
   },
   "outputs": [
    {
     "name": "stdout",
     "output_type": "stream",
     "text": [
      "package 'meta' successfully unpacked and MD5 sums checked\n",
      "\n",
      "The downloaded binary packages are in\n",
      "\tC:\\Users\\swps\\AppData\\Local\\Temp\\RtmpAndzVR\\downloaded_packages\n",
      "package 'metafor' successfully unpacked and MD5 sums checked\n",
      "\n",
      "The downloaded binary packages are in\n",
      "\tC:\\Users\\swps\\AppData\\Local\\Temp\\RtmpAndzVR\\downloaded_packages\n"
     ]
    }
   ],
   "source": [
    "for (lib in c(\"meta\", \"metafor\")) {\n",
    "    is_installed = lib %in% rownames(installed.packages())\n",
    "    if (!meta_installed) {\n",
    "        install.packages(lib, repos=\"https://cran.r-project.org\")\n",
    "    }\n",
    "}"
   ]
  },
  {
   "cell_type": "code",
   "execution_count": 9,
   "metadata": {
    "collapsed": false
   },
   "outputs": [
    {
     "name": "stderr",
     "output_type": "stream",
     "text": [
      "also installing the dependencies 'XLConnectJars', 'rJava'\n",
      "\n"
     ]
    },
    {
     "name": "stdout",
     "output_type": "stream",
     "text": [
      "package 'XLConnectJars' successfully unpacked and MD5 sums checked\n",
      "package 'rJava' successfully unpacked and MD5 sums checked\n",
      "package 'XLConnect' successfully unpacked and MD5 sums checked\n",
      "\n",
      "The downloaded binary packages are in\n",
      "\tC:\\Users\\swps\\AppData\\Local\\Temp\\RtmpAndzVR\\downloaded_packages\n"
     ]
    }
   ],
   "source": [
    "install.packages(\"XLConnect\", repos=\"https://cran.r-project.org\")"
   ]
  },
  {
   "cell_type": "markdown",
   "metadata": {},
   "source": [
    "### Wczytuję bazę do metaanalizy"
   ]
  },
  {
   "cell_type": "code",
   "execution_count": 11,
   "metadata": {
    "collapsed": false
   },
   "outputs": [
    {
     "name": "stderr",
     "output_type": "stream",
     "text": [
      "Warning message:\n",
      ": package 'XLConnect' was built under R version 3.3.1Loading required package: XLConnectJars\n",
      "Warning message:\n",
      ": package 'XLConnectJars' was built under R version 3.3.1XLConnect 0.2-12 by Mirai Solutions GmbH [aut],\n",
      "  Martin Studer [cre],\n",
      "  The Apache Software Foundation [ctb, cph] (Apache POI, Apache Commons\n",
      "    Codec),\n",
      "  Stephen Colebourne [ctb, cph] (Joda-Time Java library),\n",
      "  Graph Builder [ctb, cph] (Curvesapi Java library)\n",
      "http://www.mirai-solutions.com ,\n",
      "http://miraisolutions.wordpress.com\n"
     ]
    }
   ],
   "source": [
    "library(\"XLConnect\")"
   ]
  },
  {
   "cell_type": "code",
   "execution_count": 12,
   "metadata": {
    "collapsed": false
   },
   "outputs": [],
   "source": [
    "pth = \"C:\\\\Users\\\\swps\\\\Dropbox\\\\Sarenka\\\\metaanaliza\\\\baza.xlsx\"\n",
    "df <- readWorksheetFromFile(pth, sheet=1)"
   ]
  },
  {
   "cell_type": "code",
   "execution_count": 13,
   "metadata": {
    "collapsed": false
   },
   "outputs": [
    {
     "data": {
      "text/html": [
       "<table>\n",
       "<thead><tr><th></th><th scope=col>study</th><th scope=col>year</th><th scope=col>title</th><th scope=col>domain</th><th scope=col>frequency</th><th scope=col>meausre</th><th scope=col>chanOrSource</th><th scope=col>region</th><th scope=col>behavioral.measure</th><th scope=col>Col10</th><th scope=col>Col11</th><th scope=col>Col12</th><th scope=col>notes</th><th scope=col>d</th><th scope=col>N</th><th scope=col>uwagi</th></tr></thead>\n",
       "<tbody>\n",
       "\t<tr><th scope=row>1</th><td>1                                                                                         </td><td>2008                                                                                      </td><td>Prestimulus Oscillatory Activity in the Alpha Band Predicts\n",
       "Visual Discrimination Ability</td><td>vision                                                                                    </td><td>alpha                                                                                     </td><td>amplitude/power                                                                           </td><td>source                                                                                    </td><td>NA                                                                                        </td><td>HitRate                                                                                   </td><td>only p :( (dependent), 21 subjects but only 8 analyzed?! p=0.008                          </td><td>NA                                                                                        </td><td>NA                                                                                        </td><td>NA                                                                                        </td><td>2.7565                                                                                    </td><td>8                                                                                         </td><td>NA                                                                                        </td></tr>\n",
       "\t<tr><th scope=row>2</th><td>2                                                                                                                                                                                                                                                                                                                                               </td><td>2009                                                                                                                                                                                                                                                                                                                                            </td><td>To see or not to see                                                                                                                                                                                                                                                                                                                            </td><td>vision                                                                                                                                                                                                                                                                                                                                          </td><td>alpha                                                                                                                                                                                                                                                                                                                                           </td><td>phase                                                                                                                                                                                                                                                                                                                                           </td><td>channel                                                                                                                                                                                                                                                                                                                                         </td><td>NA                                                                                                                                                                                                                                                                                                                                              </td><td>NA                                                                                                                                                                                                                                                                                                                                              </td><td>F(1,10) = 6.48, p &lt; 0.05                                                                                                                                                                                                                                                                                                                     </td><td>NA                                                                                                                                                                                                                                                                                                                                              </td><td>NA                                                                                                                                                                                                                                                                                                                                              </td><td>They showed, as predicted, that the effect of phase was only reliable for high-  power trials. For low-  power trials, there was no effect of  phase (45–225° = 0.73, 225–45° = 0.73, t(10) = 0.35, n.s.), whereas at high levels of power, there was a significant effect of phase (45–225 = 0.67, 225–45° = 0.71, t(10) = 4.53, p &lt; 0.005).</td><td>1.138                                                                                                                                                                                                                                                                                                                                           </td><td>11                                                                                                                                                                                                                                                                                                                                              </td><td>d jest z ANOVY dla dwóch grup - faktycznie pomiary są wewnątrz osób dla różnych binów fazy, ale nie wiem czy odpowiednia ANOVA była liczona w badaniu oraz nie znalazłem kalkulatora/wzrou do przeliczania mixed anovy na d cohena                                                                                                              </td></tr>\n",
       "\t<tr><th scope=row>3</th><td>2                                                                  </td><td>2009                                                               </td><td>To see or not to see                                               </td><td>vision                                                             </td><td>alpha                                                              </td><td>amplitude/power                                                    </td><td>channel                                                            </td><td>NA                                                                 </td><td>NA                                                                 </td><td>F(1,10) = 16.43, p &lt; 0.005  (linear trend; oscill -&gt; hitrate)</td><td>M = 2.63; t(10)= 2.67, p &lt; 0.025 (udet vs det alpha power)      </td><td>NA                                                                 </td><td>NA                                                                 </td><td>1.6191                                                             </td><td>11                                                                 </td><td>NA                                                                 </td></tr>\n",
       "\t<tr><th scope=row>4</th><td>3                                                                                                                                                                                                                                                                                                                                                                                                                                                                                                                                                                                                                                                                                                                                                                                                                                                                                                                                                                                                                                                                                                                                                 </td><td>2010                                                                                                                                                                                                                                                                                                                                                                                                                                                                                                                                                                                                                                                                                                                                                                                                                                                                                                                                                                                                                                                                                                                                              </td><td>On the Role of Prestimulus Alpha Rhythms over Occipito-Parietal Areas in Visual Input Regulation - Correlation or Causation                                                                                                                                                                                                                                                                                                                                                                                                                                                                                                                                                                                                                                                                                                                                                                                                                                                                                                                                                                                                                       </td><td>vision                                                                                                                                                                                                                                                                                                                                                                                                                                                                                                                                                                                                                                                                                                                                                                                                                                                                                                                                                                                                                                                                                                                                            </td><td>alpha                                                                                                                                                                                                                                                                                                                                                                                                                                                                                                                                                                                                                                                                                                                                                                                                                                                                                                                                                                                                                                                                                                                                             </td><td>TMS stimulation                                                                                                                                                                                                                                                                                                                                                                                                                                                                                                                                                                                                                                                                                                                                                                                                                                                                                                                                                                                                                                                                                                                                   </td><td>TMS                                                                                                                                                                                                                                                                                                                                                                                                                                                                                                                                                                                                                                                                                                                                                                                                                                                                                                                                                                                                                                                                                                                                               </td><td>NA                                                                                                                                                                                                                                                                                                                                                                                                                                                                                                                                                                                                                                                                                                                                                                                                                                                                                                                                                                                                                                                                                                                                                </td><td>NA                                                                                                                                                                                                                                                                                                                                                                                                                                                                                                                                                                                                                                                                                                                                                                                                                                                                                                                                                                                                                                                                                                                                                </td><td>NA                                                                                                                                                                                                                                                                                                                                                                                                                                                                                                                                                                                                                                                                                                                                                                                                                                                                                                                                                                                                                                                                                                                                                </td><td>NA                                                                                                                                                                                                                                                                                                                                                                                                                                                                                                                                                                                                                                                                                                                                                                                                                                                                                                                                                                                                                                                                                                                                                </td><td>NA                                                                                                                                                                                                                                                                                                                                                                                                                                                                                                                                                                                                                                                                                                                                                                                                                                                                                                                                                                                                                                                                                                                                                </td><td>At the train offsets (0 s delay), we found a significant two-way interaction between TMS frequency (5 Hz vs 10 Hz vs 20 Hz) and target position (contralateral vs ipsilateral to TMS) (F(2,32) 9.7; p 0.0005), in line with rhythmic TMS affecting perception in a frequency- and space-specific manner. Target detection in the contralateral versus ipsilateral visual fields to TMS was differentially affected by 10 Hz TMS (simple effect of target position: F(1,16)   13.5, p   0.002) (Fig. 2A, middle bars) but not by 5 Hz (F(1,16)   0.3, p   0.63) or 20 Hz TMS (F(1,16)   1.7, p   0.21) (Fig. 2A, lateral bars). In the visual field contralateral to rhythmic stimulation, 10 Hz TMS significantly impaired target detection, relative to the 5Hz (simple effect of TMS frequency: F(1,16) 5.7, p   0.029) and 20 Hz TMS (F(1,16)   4.7, p   0.045) (Fig. 2A, dark gray bars). Conversely, in the visual field ipsilateral to rhythmic stimulation, 10 Hz TMS significantly enhanced target detection, relative to the 5 Hz (F(1,16)   6.0, p   0.025) and 20 Hz conditions (F(1,16)   12.4, p   0.003) (Fig. 2A, light gray bars).</td><td>1.441                                                                                                                                                                                                                                                                                                                                                                                                                                                                                                                                                                                                                                                                                                                                                                                                                                                                                                                                                                                                                                                                                                                                             </td><td>14                                                                                                                                                                                                                                                                                                                                                                                                                                                                                                                                                                                                                                                                                                                                                                                                                                                                                                                                                                                                                                                                                                                                                </td><td>NA                                                                                                                                                                                                                                                                                                                                                                                                                                                                                                                                                                                                                                                                                                                                                                                                                                                                                                                                                                                                                                                                                                                                                </td></tr>\n",
       "\t<tr><th scope=row>5</th><td>4                                                                                                                                                                                                                                                                                                                                                                                                                                                                                                              </td><td>2011                                                                                                                                                                                                                                                                                                                                                                                                                                                                                                           </td><td>The Phase of Ongoing Oscillations Mediates the Causal Relation between Brain Excitation and Visual Perception                                                                                                                                                                                                                                                                                                                                                                                                  </td><td>vision                                                                                                                                                                                                                                                                                                                                                                                                                                                                                                         </td><td>alpha                                                                                                                                                                                                                                                                                                                                                                                                                                                                                                          </td><td>phase                                                                                                                                                                                                                                                                                                                                                                                                                                                                                                          </td><td>NA                                                                                                                                                                                                                                                                                                                                                                                                                                                                                                             </td><td>occipital                                                                                                                                                                                                                                                                                                                                                                                                                                                                                                      </td><td>NA                                                                                                                                                                                                                                                                                                                                                                                                                                                                                                             </td><td>NA                                                                                                                                                                                                                                                                                                                                                                                                                                                                                                             </td><td>NA                                                                                                                                                                                                                                                                                                                                                                                                                                                                                                             </td><td>NA                                                                                                                                                                                                                                                                                                                                                                                                                                                                                                             </td><td>More precisely, phosphene probability was computed for each phase bin, then averaged over all electrodes for each region of interest and over all subjects. In both regions, phosphene perception was systematically and significantly modulated by alpha phase (one-way ANOVA, F(9,89) = 2.35, p = 0.021 for the occipital region; F(9,89) = 2.72, p = 0.008 for the frontal region). In fact, between the optimal phase angle and the opposite one, phosphene perception varied by as much as 15% on average.</td><td>0.766                                                                                                                                                                                                                                                                                                                                                                                                                                                                                                          </td><td>9                                                                                                                                                                                                                                                                                                                                                                                                                                                                                                              </td><td>NA                                                                                                                                                                                                                                                                                                                                                                                                                                                                                                             </td></tr>\n",
       "\t<tr><th scope=row>6</th><td>4                                                                                                                                                                                                                                                                                                                                                                                                                                                                                                              </td><td>2011                                                                                                                                                                                                                                                                                                                                                                                                                                                                                                           </td><td>The Phase of Ongoing Oscillations Mediates the Causal Relation between Brain Excitation and Visual Perception                                                                                                                                                                                                                                                                                                                                                                                                  </td><td>vision                                                                                                                                                                                                                                                                                                                                                                                                                                                                                                         </td><td>alpha                                                                                                                                                                                                                                                                                                                                                                                                                                                                                                          </td><td>phase                                                                                                                                                                                                                                                                                                                                                                                                                                                                                                          </td><td>NA                                                                                                                                                                                                                                                                                                                                                                                                                                                                                                             </td><td>frontal                                                                                                                                                                                                                                                                                                                                                                                                                                                                                                        </td><td>NA                                                                                                                                                                                                                                                                                                                                                                                                                                                                                                             </td><td>NA                                                                                                                                                                                                                                                                                                                                                                                                                                                                                                             </td><td>NA                                                                                                                                                                                                                                                                                                                                                                                                                                                                                                             </td><td>NA                                                                                                                                                                                                                                                                                                                                                                                                                                                                                                             </td><td>More precisely, phosphene probability was computed for each phase bin, then averaged over all electrodes for each region of interest and over all subjects. In both regions, phosphene perception was systematically and significantly modulated by alpha phase (one-way ANOVA, F(9,89) = 2.35, p = 0.021 for the occipital region; F(9,89) = 2.72, p = 0.008 for the frontal region). In fact, between the optimal phase angle and the opposite one, phosphene perception varied by as much as 15% on average.</td><td>0.825                                                                                                                                                                                                                                                                                                                                                                                                                                                                                                          </td><td>9                                                                                                                                                                                                                                                                                                                                                                                                                                                                                                              </td><td>NA                                                                                                                                                                                                                                                                                                                                                                                                                                                                                                             </td></tr>\n",
       "</tbody>\n",
       "</table>\n"
      ],
      "text/latex": [
       "\\begin{tabular}{r|llllllllllllllll}\n",
       "  & study & year & title & domain & frequency & meausre & chanOrSource & region & behavioral.measure & Col10 & Col11 & Col12 & notes & d & N & uwagi\\\\\n",
       "\\hline\n",
       "\t1 & 1                                                                                          & 2008                                                                                       & Prestimulus Oscillatory Activity in the Alpha Band Predicts\n",
       "Visual Discrimination Ability & vision                                                                                     & alpha                                                                                      & amplitude/power                                                                            & source                                                                                     & NA                                                                                         & HitRate                                                                                    & only p :( (dependent), 21 subjects but only 8 analyzed?! p=0.008                           & NA                                                                                         & NA                                                                                         & NA                                                                                         & 2.7565                                                                                     & 8                                                                                          & NA                                                                                        \\\\\n",
       "\t2 & 2                                                                                                                                                                                                                                                                                                                                             & 2009                                                                                                                                                                                                                                                                                                                                          & To see or not to see                                                                                                                                                                                                                                                                                                                          & vision                                                                                                                                                                                                                                                                                                                                        & alpha                                                                                                                                                                                                                                                                                                                                         & phase                                                                                                                                                                                                                                                                                                                                         & channel                                                                                                                                                                                                                                                                                                                                       & NA                                                                                                                                                                                                                                                                                                                                            & NA                                                                                                                                                                                                                                                                                                                                            & F(1,10) = 6.48, p < 0.05                                                                                                                                                                                                                                                                                                                      & NA                                                                                                                                                                                                                                                                                                                                            & NA                                                                                                                                                                                                                                                                                                                                            & They showed, as predicted, that the effect of phase was only reliable for high-  power trials. For low-  power trials, there was no effect of  phase (45–225° = 0.73, 225–45° = 0.73, t(10) = 0.35, n.s.), whereas at high levels of power, there was a significant effect of phase (45–225 = 0.67, 225–45° = 0.71, t(10) = 4.53, p < 0.005). & 1.138                                                                                                                                                                                                                                                                                                                                         & 11                                                                                                                                                                                                                                                                                                                                            & d jest z ANOVY dla dwóch grup - faktycznie pomiary są wewnątrz osób dla różnych binów fazy, ale nie wiem czy odpowiednia ANOVA była liczona w badaniu oraz nie znalazłem kalkulatora/wzrou do przeliczania mixed anovy na d cohena                                                                                                           \\\\\n",
       "\t3 & 2                                                             & 2009                                                          & To see or not to see                                          & vision                                                        & alpha                                                         & amplitude/power                                               & channel                                                       & NA                                                            & NA                                                            & F(1,10) = 16.43, p < 0.005  (linear trend; oscill -> hitrate) & M = 2.63; t(10)= 2.67, p < 0.025 (udet vs det alpha power)    & NA                                                            & NA                                                            & 1.6191                                                        & 11                                                            & NA                                                           \\\\\n",
       "\t4 & 3                                                                                                                                                                                                                                                                                                                                                                                                                                                                                                                                                                                                                                                                                                                                                                                                                                                                                                                                                                                                                                                                                                                                                  & 2010                                                                                                                                                                                                                                                                                                                                                                                                                                                                                                                                                                                                                                                                                                                                                                                                                                                                                                                                                                                                                                                                                                                                               & On the Role of Prestimulus Alpha Rhythms over Occipito-Parietal Areas in Visual Input Regulation - Correlation or Causation                                                                                                                                                                                                                                                                                                                                                                                                                                                                                                                                                                                                                                                                                                                                                                                                                                                                                                                                                                                                                        & vision                                                                                                                                                                                                                                                                                                                                                                                                                                                                                                                                                                                                                                                                                                                                                                                                                                                                                                                                                                                                                                                                                                                                             & alpha                                                                                                                                                                                                                                                                                                                                                                                                                                                                                                                                                                                                                                                                                                                                                                                                                                                                                                                                                                                                                                                                                                                                              & TMS stimulation                                                                                                                                                                                                                                                                                                                                                                                                                                                                                                                                                                                                                                                                                                                                                                                                                                                                                                                                                                                                                                                                                                                                    & TMS                                                                                                                                                                                                                                                                                                                                                                                                                                                                                                                                                                                                                                                                                                                                                                                                                                                                                                                                                                                                                                                                                                                                                & NA                                                                                                                                                                                                                                                                                                                                                                                                                                                                                                                                                                                                                                                                                                                                                                                                                                                                                                                                                                                                                                                                                                                                                 & NA                                                                                                                                                                                                                                                                                                                                                                                                                                                                                                                                                                                                                                                                                                                                                                                                                                                                                                                                                                                                                                                                                                                                                 & NA                                                                                                                                                                                                                                                                                                                                                                                                                                                                                                                                                                                                                                                                                                                                                                                                                                                                                                                                                                                                                                                                                                                                                 & NA                                                                                                                                                                                                                                                                                                                                                                                                                                                                                                                                                                                                                                                                                                                                                                                                                                                                                                                                                                                                                                                                                                                                                 & NA                                                                                                                                                                                                                                                                                                                                                                                                                                                                                                                                                                                                                                                                                                                                                                                                                                                                                                                                                                                                                                                                                                                                                 & At the train offsets (0 s delay), we found a significant two-way interaction between TMS frequency (5 Hz vs 10 Hz vs 20 Hz) and target position (contralateral vs ipsilateral to TMS) (F(2,32) 9.7; p 0.0005), in line with rhythmic TMS affecting perception in a frequency- and space-specific manner. Target detection in the contralateral versus ipsilateral visual fields to TMS was differentially affected by 10 Hz TMS (simple effect of target position: F(1,16)   13.5, p   0.002) (Fig. 2A, middle bars) but not by 5 Hz (F(1,16)   0.3, p   0.63) or 20 Hz TMS (F(1,16)   1.7, p   0.21) (Fig. 2A, lateral bars). In the visual field contralateral to rhythmic stimulation, 10 Hz TMS significantly impaired target detection, relative to the 5Hz (simple effect of TMS frequency: F(1,16) 5.7, p   0.029) and 20 Hz TMS (F(1,16)   4.7, p   0.045) (Fig. 2A, dark gray bars). Conversely, in the visual field ipsilateral to rhythmic stimulation, 10 Hz TMS significantly enhanced target detection, relative to the 5 Hz (F(1,16)   6.0, p   0.025) and 20 Hz conditions (F(1,16)   12.4, p   0.003) (Fig. 2A, light gray bars). & 1.441                                                                                                                                                                                                                                                                                                                                                                                                                                                                                                                                                                                                                                                                                                                                                                                                                                                                                                                                                                                                                                                                                                                                              & 14                                                                                                                                                                                                                                                                                                                                                                                                                                                                                                                                                                                                                                                                                                                                                                                                                                                                                                                                                                                                                                                                                                                                                 & NA                                                                                                                                                                                                                                                                                                                                                                                                                                                                                                                                                                                                                                                                                                                                                                                                                                                                                                                                                                                                                                                                                                                                                \\\\\n",
       "\t5 & 4                                                                                                                                                                                                                                                                                                                                                                                                                                                                                                                 & 2011                                                                                                                                                                                                                                                                                                                                                                                                                                                                                                              & The Phase of Ongoing Oscillations Mediates the Causal Relation between Brain Excitation and Visual Perception                                                                                                                                                                                                                                                                                                                                                                                                     & vision                                                                                                                                                                                                                                                                                                                                                                                                                                                                                                            & alpha                                                                                                                                                                                                                                                                                                                                                                                                                                                                                                             & phase                                                                                                                                                                                                                                                                                                                                                                                                                                                                                                             & NA                                                                                                                                                                                                                                                                                                                                                                                                                                                                                                                & occipital                                                                                                                                                                                                                                                                                                                                                                                                                                                                                                         & NA                                                                                                                                                                                                                                                                                                                                                                                                                                                                                                                & NA                                                                                                                                                                                                                                                                                                                                                                                                                                                                                                                & NA                                                                                                                                                                                                                                                                                                                                                                                                                                                                                                                & NA                                                                                                                                                                                                                                                                                                                                                                                                                                                                                                                & More precisely, phosphene probability was computed for each phase bin, then averaged over all electrodes for each region of interest and over all subjects. In both regions, phosphene perception was systematically and significantly modulated by alpha phase (one-way ANOVA, F(9,89) = 2.35, p = 0.021 for the occipital region; F(9,89) = 2.72, p = 0.008 for the frontal region). In fact, between the optimal phase angle and the opposite one, phosphene perception varied by as much as 15\\% on average. & 0.766                                                                                                                                                                                                                                                                                                                                                                                                                                                                                                             & 9                                                                                                                                                                                                                                                                                                                                                                                                                                                                                                                 & NA                                                                                                                                                                                                                                                                                                                                                                                                                                                                                                               \\\\\n",
       "\t6 & 4                                                                                                                                                                                                                                                                                                                                                                                                                                                                                                                 & 2011                                                                                                                                                                                                                                                                                                                                                                                                                                                                                                              & The Phase of Ongoing Oscillations Mediates the Causal Relation between Brain Excitation and Visual Perception                                                                                                                                                                                                                                                                                                                                                                                                     & vision                                                                                                                                                                                                                                                                                                                                                                                                                                                                                                            & alpha                                                                                                                                                                                                                                                                                                                                                                                                                                                                                                             & phase                                                                                                                                                                                                                                                                                                                                                                                                                                                                                                             & NA                                                                                                                                                                                                                                                                                                                                                                                                                                                                                                                & frontal                                                                                                                                                                                                                                                                                                                                                                                                                                                                                                           & NA                                                                                                                                                                                                                                                                                                                                                                                                                                                                                                                & NA                                                                                                                                                                                                                                                                                                                                                                                                                                                                                                                & NA                                                                                                                                                                                                                                                                                                                                                                                                                                                                                                                & NA                                                                                                                                                                                                                                                                                                                                                                                                                                                                                                                & More precisely, phosphene probability was computed for each phase bin, then averaged over all electrodes for each region of interest and over all subjects. In both regions, phosphene perception was systematically and significantly modulated by alpha phase (one-way ANOVA, F(9,89) = 2.35, p = 0.021 for the occipital region; F(9,89) = 2.72, p = 0.008 for the frontal region). In fact, between the optimal phase angle and the opposite one, phosphene perception varied by as much as 15\\% on average. & 0.825                                                                                                                                                                                                                                                                                                                                                                                                                                                                                                             & 9                                                                                                                                                                                                                                                                                                                                                                                                                                                                                                                 & NA                                                                                                                                                                                                                                                                                                                                                                                                                                                                                                               \\\\\n",
       "\\end{tabular}\n"
      ],
      "text/plain": [
       "  study year\n",
       "1     1 2008\n",
       "2     2 2009\n",
       "3     2 2009\n",
       "4     3 2010\n",
       "5     4 2011\n",
       "6     4 2011\n",
       "                                                                                                                        title\n",
       "1                                  Prestimulus Oscillatory Activity in the Alpha Band Predicts\\nVisual Discrimination Ability\n",
       "2                                                                                                        To see or not to see\n",
       "3                                                                                                        To see or not to see\n",
       "4 On the Role of Prestimulus Alpha Rhythms over Occipito-Parietal Areas in Visual Input Regulation - Correlation or Causation\n",
       "5               The Phase of Ongoing Oscillations Mediates the Causal Relation between Brain Excitation and Visual Perception\n",
       "6               The Phase of Ongoing Oscillations Mediates the Causal Relation between Brain Excitation and Visual Perception\n",
       "  domain frequency         meausre chanOrSource    region behavioral.measure\n",
       "1 vision     alpha amplitude/power       source      <NA>            HitRate\n",
       "2 vision     alpha           phase      channel      <NA>               <NA>\n",
       "3 vision     alpha amplitude/power      channel      <NA>               <NA>\n",
       "4 vision     alpha TMS stimulation          TMS      <NA>               <NA>\n",
       "5 vision     alpha           phase         <NA> occipital               <NA>\n",
       "6 vision     alpha           phase         <NA>   frontal               <NA>\n",
       "                                                             Col10\n",
       "1 only p :( (dependent), 21 subjects but only 8 analyzed?! p=0.008\n",
       "2                                         F(1,10) = 6.48, p < 0.05\n",
       "3    F(1,10) = 16.43, p < 0.005  (linear trend; oscill -> hitrate)\n",
       "4                                                             <NA>\n",
       "5                                                             <NA>\n",
       "6                                                             <NA>\n",
       "                                                       Col11 Col12\n",
       "1                                                       <NA>    NA\n",
       "2                                                       <NA>    NA\n",
       "3 M = 2.63; t(10)= 2.67, p < 0.025 (udet vs det alpha power)    NA\n",
       "4                                                       <NA>    NA\n",
       "5                                                       <NA>    NA\n",
       "6                                                       <NA>    NA\n",
       "                                                                                                                                                                                                                                                                                                                                                                                                                                                                                                                                                                                                                                                                                                                                                                                                                                                                                                                                                                                                                                                                                                                                               notes\n",
       "1                                                                                                                                                                                                                                                                                                                                                                                                                                                                                                                                                                                                                                                                                                                                                                                                                                                                                                                                                                                                                                                                                                                                               <NA>\n",
       "2                                                                                                                                                                                                                                                                                                                                                                                                                                                                                                                                                                                                                                                                                                                                                                                                      They showed, as predicted, that the effect of phase was only reliable for high-  power trials. For low-  power trials, there was no effect of  phase (45–225° = 0.73, 225–45° = 0.73, t(10) = 0.35, n.s.), whereas at high levels of power, there was a significant effect of phase (45–225 = 0.67, 225–45° = 0.71, t(10) = 4.53, p < 0.005).\n",
       "3                                                                                                                                                                                                                                                                                                                                                                                                                                                                                                                                                                                                                                                                                                                                                                                                                                                                                                                                                                                                                                                                                                                                               <NA>\n",
       "4 At the train offsets (0 s delay), we found a significant two-way interaction between TMS frequency (5 Hz vs 10 Hz vs 20 Hz) and target position (contralateral vs ipsilateral to TMS) (F(2,32) 9.7; p 0.0005), in line with rhythmic TMS affecting perception in a frequency- and space-specific manner. Target detection in the contralateral versus ipsilateral visual fields to TMS was differentially affected by 10 Hz TMS (simple effect of target position: F(1,16)   13.5, p   0.002) (Fig. 2A, middle bars) but not by 5 Hz (F(1,16)   0.3, p   0.63) or 20 Hz TMS (F(1,16)   1.7, p   0.21) (Fig. 2A, lateral bars). In the visual field contralateral to rhythmic stimulation, 10 Hz TMS significantly impaired target detection, relative to the 5Hz (simple effect of TMS frequency: F(1,16) 5.7, p   0.029) and 20 Hz TMS (F(1,16)   4.7, p   0.045) (Fig. 2A, dark gray bars). Conversely, in the visual field ipsilateral to rhythmic stimulation, 10 Hz TMS significantly enhanced target detection, relative to the 5 Hz (F(1,16)   6.0, p   0.025) and 20 Hz conditions (F(1,16)   12.4, p   0.003) (Fig. 2A, light gray bars).\n",
       "5                                                                                                                                                                                                                                                                                                                                                                                                                                                                                                                                                                                                                                    More precisely, phosphene probability was computed for each phase bin, then averaged over all electrodes for each region of interest and over all subjects. In both regions, phosphene perception was systematically and significantly modulated by alpha phase (one-way ANOVA, F(9,89) = 2.35, p = 0.021 for the occipital region; F(9,89) = 2.72, p = 0.008 for the frontal region). In fact, between the optimal phase angle and the opposite one, phosphene perception varied by as much as 15% on average.\n",
       "6                                                                                                                                                                                                                                                                                                                                                                                                                                                                                                                                                                                                                                    More precisely, phosphene probability was computed for each phase bin, then averaged over all electrodes for each region of interest and over all subjects. In both regions, phosphene perception was systematically and significantly modulated by alpha phase (one-way ANOVA, F(9,89) = 2.35, p = 0.021 for the occipital region; F(9,89) = 2.72, p = 0.008 for the frontal region). In fact, between the optimal phase angle and the opposite one, phosphene perception varied by as much as 15% on average.\n",
       "       d  N\n",
       "1 2.7565  8\n",
       "2  1.138 11\n",
       "3 1.6191 11\n",
       "4  1.441 14\n",
       "5  0.766  9\n",
       "6  0.825  9\n",
       "                                                                                                                                                                                                                               uwagi\n",
       "1                                                                                                                                                                                                                               <NA>\n",
       "2 d jest z ANOVY dla dwóch grup - faktycznie pomiary są wewnątrz osób dla różnych binów fazy, ale nie wiem czy odpowiednia ANOVA była liczona w badaniu oraz nie znalazłem kalkulatora/wzrou do przeliczania mixed anovy na d cohena\n",
       "3                                                                                                                                                                                                                               <NA>\n",
       "4                                                                                                                                                                                                                               <NA>\n",
       "5                                                                                                                                                                                                                               <NA>\n",
       "6                                                                                                                                                                                                                               <NA>"
      ]
     },
     "metadata": {},
     "output_type": "display_data"
    }
   ],
   "source": [
    "head(df)"
   ]
  },
  {
   "cell_type": "markdown",
   "metadata": {},
   "source": [
    "### Zakodowane badania\n",
    "Udało mi się zakodować 7 badań, z czego każde opisuje kilka efektów. Zdecydowanie kodowanie bazy był najmniej przyjemną częścią zadania. Dosyć typowe w literaturze neuronaukowej jest podawanie np. samych wartości `p` (i wcale nie tylko w sytuacji gdy były stosowane testy permutacyjne), albo podawanie szczątkowych informacji na temat przeprowadzonych testów, czy wręcz przeprowadzanie niepoprawnych testów. Kiedy indziej stosuje się bardziej egzotyczne testy (np. gdy mamy do czynienia z cyklicznymi zmiennymi jak faza oscylacji)."
   ]
  },
  {
   "cell_type": "code",
   "execution_count": 15,
   "metadata": {
    "collapsed": false
   },
   "outputs": [
    {
     "data": {
      "text/html": [
       "<ol class=list-inline>\n",
       "\t<li>1</li>\n",
       "\t<li>2</li>\n",
       "\t<li>2</li>\n",
       "\t<li>3</li>\n",
       "\t<li>4</li>\n",
       "\t<li>4</li>\n",
       "\t<li>5</li>\n",
       "\t<li>6</li>\n",
       "\t<li>6</li>\n",
       "\t<li>6</li>\n",
       "\t<li>6</li>\n",
       "\t<li>7</li>\n",
       "\t<li>7</li>\n",
       "</ol>\n"
      ],
      "text/latex": [
       "\\begin{enumerate*}\n",
       "\\item 1\n",
       "\\item 2\n",
       "\\item 2\n",
       "\\item 3\n",
       "\\item 4\n",
       "\\item 4\n",
       "\\item 5\n",
       "\\item 6\n",
       "\\item 6\n",
       "\\item 6\n",
       "\\item 6\n",
       "\\item 7\n",
       "\\item 7\n",
       "\\end{enumerate*}\n"
      ],
      "text/markdown": [
       "1. 1\n",
       "2. 2\n",
       "3. 2\n",
       "4. 3\n",
       "5. 4\n",
       "6. 4\n",
       "7. 5\n",
       "8. 6\n",
       "9. 6\n",
       "10. 6\n",
       "11. 6\n",
       "12. 7\n",
       "13. 7\n",
       "\n",
       "\n"
      ],
      "text/plain": [
       " [1] 1 2 2 3 4 4 5 6 6 6 6 7 7"
      ]
     },
     "metadata": {},
     "output_type": "display_data"
    }
   ],
   "source": [
    "df$study"
   ]
  },
  {
   "cell_type": "code",
   "execution_count": 14,
   "metadata": {
    "collapsed": false
   },
   "outputs": [
    {
     "data": {
      "text/html": [
       "<ol class=list-inline>\n",
       "\t<li>2008</li>\n",
       "\t<li>2009</li>\n",
       "\t<li>2009</li>\n",
       "\t<li>2010</li>\n",
       "\t<li>2011</li>\n",
       "\t<li>2011</li>\n",
       "\t<li>2013</li>\n",
       "\t<li>2004</li>\n",
       "\t<li>2004</li>\n",
       "\t<li>2004</li>\n",
       "\t<li>2004</li>\n",
       "\t<li>2009</li>\n",
       "\t<li>2009</li>\n",
       "</ol>\n"
      ],
      "text/latex": [
       "\\begin{enumerate*}\n",
       "\\item 2008\n",
       "\\item 2009\n",
       "\\item 2009\n",
       "\\item 2010\n",
       "\\item 2011\n",
       "\\item 2011\n",
       "\\item 2013\n",
       "\\item 2004\n",
       "\\item 2004\n",
       "\\item 2004\n",
       "\\item 2004\n",
       "\\item 2009\n",
       "\\item 2009\n",
       "\\end{enumerate*}\n"
      ],
      "text/markdown": [
       "1. 2008\n",
       "2. 2009\n",
       "3. 2009\n",
       "4. 2010\n",
       "5. 2011\n",
       "6. 2011\n",
       "7. 2013\n",
       "8. 2004\n",
       "9. 2004\n",
       "10. 2004\n",
       "11. 2004\n",
       "12. 2009\n",
       "13. 2009\n",
       "\n",
       "\n"
      ],
      "text/plain": [
       " [1] 2008 2009 2009 2010 2011 2011 2013 2004 2004 2004 2004 2009 2009"
      ]
     },
     "metadata": {},
     "output_type": "display_data"
    }
   ],
   "source": [
    "df$year"
   ]
  },
  {
   "cell_type": "markdown",
   "metadata": {},
   "source": [
    "Jak przystało na neuronaukę badania są niewielkiej liczbie osób:"
   ]
  },
  {
   "cell_type": "code",
   "execution_count": 23,
   "metadata": {
    "collapsed": false
   },
   "outputs": [
    {
     "data": {
      "text/html": [
       "<ol class=list-inline>\n",
       "\t<li>8</li>\n",
       "\t<li>11</li>\n",
       "\t<li>14</li>\n",
       "\t<li>9</li>\n",
       "\t<li>13</li>\n",
       "\t<li>14</li>\n",
       "\t<li>12</li>\n",
       "</ol>\n"
      ],
      "text/latex": [
       "\\begin{enumerate*}\n",
       "\\item 8\n",
       "\\item 11\n",
       "\\item 14\n",
       "\\item 9\n",
       "\\item 13\n",
       "\\item 14\n",
       "\\item 12\n",
       "\\end{enumerate*}\n"
      ],
      "text/markdown": [
       "1. 8\n",
       "2. 11\n",
       "3. 14\n",
       "4. 9\n",
       "5. 13\n",
       "6. 14\n",
       "7. 12\n",
       "\n",
       "\n"
      ],
      "text/plain": [
       "[1]  8 11 14  9 13 14 12"
      ]
     },
     "metadata": {},
     "output_type": "display_data"
    }
   ],
   "source": [
    "agg_df = aggregate(df$N, by=list(df$study), FUN=mean)\n",
    "N = agg_df$x\n",
    "N"
   ]
  },
  {
   "cell_type": "code",
   "execution_count": 26,
   "metadata": {
    "collapsed": false
   },
   "outputs": [
    {
     "data": {
      "image/png": "[encoded data removed]",
      "text/plain": [
       "Plot with title \"Histogram of N\""
      ]
     },
     "metadata": {
      "image/svg+xml": {
       "isolated": true
      }
     },
     "output_type": "display_data"
    }
   ],
   "source": [
    "options(repr.plot.width=3, repr.plot.height=3)\n",
    "hist(N)"
   ]
  },
  {
   "cell_type": "markdown",
   "metadata": {},
   "source": [
    "## Selekcja zmiennych\n"
   ]
  },
  {
   "cell_type": "code",
   "execution_count": 52,
   "metadata": {
    "collapsed": false
   },
   "outputs": [
    {
     "data": {
      "text/html": [
       "<table>\n",
       "<thead><tr><th></th><th scope=col>study</th><th scope=col>year</th><th scope=col>domain</th><th scope=col>meausre</th><th scope=col>beh</th><th scope=col>d</th><th scope=col>N</th></tr></thead>\n",
       "<tbody>\n",
       "\t<tr><th scope=row>1</th><td>1              </td><td>2008           </td><td>vision         </td><td>amplitude/power</td><td>HitRate        </td><td>2.7565         </td><td>8              </td></tr>\n",
       "\t<tr><th scope=row>2</th><td>2     </td><td>2009  </td><td>vision</td><td>phase </td><td>NA    </td><td>1.138 </td><td>11    </td></tr>\n",
       "\t<tr><th scope=row>3</th><td>2              </td><td>2009           </td><td>vision         </td><td>amplitude/power</td><td>NA             </td><td>1.6191         </td><td>11             </td></tr>\n",
       "\t<tr><th scope=row>4</th><td>3              </td><td>2010           </td><td>vision         </td><td>TMS stimulation</td><td>NA             </td><td>1.441          </td><td>14             </td></tr>\n",
       "\t<tr><th scope=row>5</th><td>4     </td><td>2011  </td><td>vision</td><td>phase </td><td>NA    </td><td>0.766 </td><td>9     </td></tr>\n",
       "\t<tr><th scope=row>6</th><td>4     </td><td>2011  </td><td>vision</td><td>phase </td><td>NA    </td><td>0.825 </td><td>9     </td></tr>\n",
       "</tbody>\n",
       "</table>\n"
      ],
      "text/latex": [
       "\\begin{tabular}{r|lllllll}\n",
       "  & study & year & domain & meausre & beh & d & N\\\\\n",
       "\\hline\n",
       "\t1 & 1               & 2008            & vision          & amplitude/power & HitRate         & 2.7565          & 8              \\\\\n",
       "\t2 & 2      & 2009   & vision & phase  & NA     & 1.138  & 11    \\\\\n",
       "\t3 & 2               & 2009            & vision          & amplitude/power & NA              & 1.6191          & 11             \\\\\n",
       "\t4 & 3               & 2010            & vision          & TMS stimulation & NA              & 1.441           & 14             \\\\\n",
       "\t5 & 4      & 2011   & vision & phase  & NA     & 0.766  & 9     \\\\\n",
       "\t6 & 4      & 2011   & vision & phase  & NA     & 0.825  & 9     \\\\\n",
       "\\end{tabular}\n"
      ],
      "text/plain": [
       "  study year domain         meausre     beh      d  N\n",
       "1     1 2008 vision amplitude/power HitRate 2.7565  8\n",
       "2     2 2009 vision           phase    <NA> 1.1380 11\n",
       "3     2 2009 vision amplitude/power    <NA> 1.6191 11\n",
       "4     3 2010 vision TMS stimulation    <NA> 1.4410 14\n",
       "5     4 2011 vision           phase    <NA> 0.7660  9\n",
       "6     4 2011 vision           phase    <NA> 0.8250  9"
      ]
     },
     "metadata": {},
     "output_type": "display_data"
    }
   ],
   "source": [
    "take_col = colnames(df)[c(1, 2, 4, 6, 9, 14, 15)]\n",
    "df_red = df[, take_col]\n",
    "\n",
    "library(plyr)\n",
    "df_red = rename(df_red, c(\"behavioral.measure\"=\"beh\"))\n",
    "df_red$d = vapply(df_red$d, as.numeric, 2.3)\n",
    "head(df_red)"
   ]
  },
  {
   "cell_type": "markdown",
   "metadata": {},
   "source": [
    "Robię korektę Hedges'a"
   ]
  },
  {
   "cell_type": "code",
   "execution_count": 54,
   "metadata": {
    "collapsed": false
   },
   "outputs": [],
   "source": [
    "hedges = function(d, N){\n",
    "    frac = 1 - 3 / (4 * N - 9)\n",
    "    d_prim = d * frac\n",
    "    return(d_prim)\n",
    "}\n",
    "df_red$d = hedges(df_red$d, df_red$N)"
   ]
  },
  {
   "cell_type": "markdown",
   "metadata": {},
   "source": [
    "Liczę wariancję - kodowałem wszystko jako `d` Cohena, ale wszystkie porównania sa wewnątrz osób więc N1 = N2"
   ]
  },
  {
   "cell_type": "code",
   "execution_count": 58,
   "metadata": {
    "collapsed": true
   },
   "outputs": [],
   "source": [
    "n = df_red$N\n",
    "df_red$var = (2 * n)/(n^2) + df_red$d / (4 * n)"
   ]
  },
  {
   "cell_type": "markdown",
   "metadata": {},
   "source": [
    "Wyrzucam jeszcze d > 4 - jedno badanie w dwóch efektach dopasowywało nieliniową regresję i niewiarygodnie wysokie R**2 im wychodziło"
   ]
  },
  {
   "cell_type": "code",
   "execution_count": 68,
   "metadata": {
    "collapsed": false
   },
   "outputs": [],
   "source": [
    "select = !(df_red$d > 4)\n",
    "df = df_red[select, ]"
   ]
  },
  {
   "cell_type": "markdown",
   "metadata": {},
   "source": [
    "## Efekty stałe"
   ]
  },
  {
   "cell_type": "code",
   "execution_count": 60,
   "metadata": {
    "collapsed": false
   },
   "outputs": [
    {
     "name": "stderr",
     "output_type": "stream",
     "text": [
      "Warning message:\n",
      ": package 'metafor' was built under R version 3.3.1Loading required package: Matrix\n",
      "Loading 'metafor' package (version 1.9-8). For an overview \n",
      "and introduction to the package please type: help(metafor).\n"
     ]
    }
   ],
   "source": [
    "library(\"metafor\")"
   ]
  },
  {
   "cell_type": "markdown",
   "metadata": {},
   "source": [
    "Całkowity efekt, bez uwzględniania różnych badań oraz różnych efektów (amplituda / faza)"
   ]
  },
  {
   "cell_type": "code",
   "execution_count": 101,
   "metadata": {
    "collapsed": false
   },
   "outputs": [
    {
     "data": {
      "text/plain": [
       "\n",
       "Fixed-Effects Model (k = 11)\n",
       "\n",
       "Test for Heterogeneity: \n",
       "Q(df = 10) = 42.8967, p-val < .0001\n",
       "\n",
       "Model Results:\n",
       "\n",
       "estimate       se     zval     pval    ci.lb    ci.ub          \n",
       "  1.4543   0.1364  10.6600   <.0001   1.1869   1.7216      *** \n",
       "\n",
       "---\n",
       "Signif. codes:  0 '***' 0.001 '**' 0.01 '*' 0.05 '.' 0.1 ' ' 1 \n"
      ]
     },
     "metadata": {},
     "output_type": "display_data"
    }
   ],
   "source": [
    "mdl = rma(yi=d, vi=var, method=\"FE\", data=df)\n",
    "mdl"
   ]
  },
  {
   "cell_type": "markdown",
   "metadata": {},
   "source": [
    "Oszacowany efekt: 1.4543, ale nie daję wiary więc sprawdzam analizę z efektami losowymi"
   ]
  },
  {
   "cell_type": "markdown",
   "metadata": {},
   "source": [
    "## Efekty losowe"
   ]
  },
  {
   "cell_type": "code",
   "execution_count": 79,
   "metadata": {
    "collapsed": false
   },
   "outputs": [
    {
     "data": {
      "text/plain": [
       "\n",
       "Random-Effects Model (k = 11; tau^2 estimator: REML)\n",
       "\n",
       "tau^2 (estimated amount of total heterogeneity): 0.6781 (SE = 0.3967)\n",
       "tau (square root of estimated tau^2 value):      0.8234\n",
       "I^2 (total heterogeneity / total variability):   76.76%\n",
       "H^2 (total variability / sampling variability):  4.30\n",
       "\n",
       "Test for Heterogeneity: \n",
       "Q(df = 10) = 42.8967, p-val < .0001\n",
       "\n",
       "Model Results:\n",
       "\n",
       "estimate       se     zval     pval    ci.lb    ci.ub          \n",
       "  1.4736   0.2841   5.1868   <.0001   0.9167   2.0304      *** \n",
       "\n",
       "---\n",
       "Signif. codes:  0 '***' 0.001 '**' 0.01 '*' 0.05 '.' 0.1 ' ' 1 \n"
      ]
     },
     "metadata": {},
     "output_type": "display_data"
    }
   ],
   "source": [
    "rma(yi=d, vi=var, method=\"REML\", data=df)"
   ]
  },
  {
   "cell_type": "markdown",
   "metadata": {},
   "source": [
    "## Model mieszany"
   ]
  },
  {
   "cell_type": "markdown",
   "metadata": {},
   "source": [
    "Cały czas szacowany efekt jest niezwykle wysoki, ale zwiększył się błąd, więc mniejsza istotność.\n",
    "Faktycznie niektóre efekty pochodzą z tych samych badań, są więc bardziej skorelowane ze sobą, korzystamy z modelu mieszanego:"
   ]
  },
  {
   "cell_type": "code",
   "execution_count": 80,
   "metadata": {
    "collapsed": false
   },
   "outputs": [
    {
     "data": {
      "text/plain": [
       "\n",
       "Multivariate Meta-Analysis Model (k = 11; method: REML)\n",
       "\n",
       "Variance Components: \n",
       "\n",
       "            estim    sqrt  nlvls  fixed  factor\n",
       "sigma^2    0.6997  0.8365      7     no   study\n",
       "\n",
       "Test for Heterogeneity: \n",
       "Q(df = 10) = 42.8967, p-val < .0001\n",
       "\n",
       "Model Results:\n",
       "\n",
       "estimate       se     zval     pval    ci.lb    ci.ub          \n",
       "  1.4955   0.3482   4.2954   <.0001   0.8131   2.1778      *** \n",
       "\n",
       "---\n",
       "Signif. codes:  0 '***' 0.001 '**' 0.01 '*' 0.05 '.' 0.1 ' ' 1 \n"
      ]
     },
     "metadata": {},
     "output_type": "display_data"
    }
   ],
   "source": [
    "rma.mv(d, var, random = ~ 1 | study, data=df)"
   ]
  },
  {
   "cell_type": "code",
   "execution_count": 86,
   "metadata": {
    "collapsed": false
   },
   "outputs": [
    {
     "data": {
      "text/html": [
       "<table>\n",
       "<thead><tr><th></th><th scope=col>study</th><th scope=col>year</th><th scope=col>domain</th><th scope=col>measure</th><th scope=col>beh</th><th scope=col>d</th><th scope=col>N</th><th scope=col>var</th></tr></thead>\n",
       "<tbody>\n",
       "\t<tr><th scope=row>1</th><td>1                </td><td>2008             </td><td>vision           </td><td>amplitude/power  </td><td>HitRate          </td><td>2.39695652173913 </td><td>8                </td><td>0.324904891304348</td></tr>\n",
       "\t<tr><th scope=row>2</th><td>2                </td><td>2009             </td><td>vision           </td><td>phase            </td><td>NA               </td><td>1.04045714285714 </td><td>11               </td><td>0.205464935064935</td></tr>\n",
       "\t<tr><th scope=row>3</th><td>2                </td><td>2009             </td><td>vision           </td><td>amplitude/power  </td><td>NA               </td><td>1.48032          </td><td>11               </td><td>0.215461818181818</td></tr>\n",
       "\t<tr><th scope=row>4</th><td>3                </td><td>2010             </td><td>vision           </td><td>amplitude/power  </td><td>NA               </td><td>1.34902127659574 </td><td>14               </td><td>0.166946808510638</td></tr>\n",
       "\t<tr><th scope=row>5</th><td>4                </td><td>2011             </td><td>vision           </td><td>phase            </td><td>NA               </td><td>0.680888888888889</td><td>9                </td><td>0.241135802469136</td></tr>\n",
       "\t<tr><th scope=row>6</th><td>4                </td><td>2011             </td><td>vision           </td><td>phase            </td><td>NA               </td><td>0.733333333333333</td><td>9                </td><td>0.242592592592593</td></tr>\n",
       "</tbody>\n",
       "</table>\n"
      ],
      "text/latex": [
       "\\begin{tabular}{r|llllllll}\n",
       "  & study & year & domain & measure & beh & d & N & var\\\\\n",
       "\\hline\n",
       "\t1 & 1                 & 2008              & vision            & amplitude/power   & HitRate           & 2.39695652173913  & 8                 & 0.324904891304348\\\\\n",
       "\t2 & 2                 & 2009              & vision            & phase             & NA                & 1.04045714285714  & 11                & 0.205464935064935\\\\\n",
       "\t3 & 2                 & 2009              & vision            & amplitude/power   & NA                & 1.48032           & 11                & 0.215461818181818\\\\\n",
       "\t4 & 3                 & 2010              & vision            & amplitude/power   & NA                & 1.34902127659574  & 14                & 0.166946808510638\\\\\n",
       "\t5 & 4                 & 2011              & vision            & phase             & NA                & 0.680888888888889 & 9                 & 0.241135802469136\\\\\n",
       "\t6 & 4                 & 2011              & vision            & phase             & NA                & 0.733333333333333 & 9                 & 0.242592592592593\\\\\n",
       "\\end{tabular}\n"
      ],
      "text/plain": [
       "  study year domain         measure     beh         d  N       var\n",
       "1     1 2008 vision amplitude/power HitRate 2.3969565  8 0.3249049\n",
       "2     2 2009 vision           phase    <NA> 1.0404571 11 0.2054649\n",
       "3     2 2009 vision amplitude/power    <NA> 1.4803200 11 0.2154618\n",
       "4     3 2010 vision amplitude/power    <NA> 1.3490213 14 0.1669468\n",
       "5     4 2011 vision           phase    <NA> 0.6808889  9 0.2411358\n",
       "6     4 2011 vision           phase    <NA> 0.7333333  9 0.2425926"
      ]
     },
     "metadata": {},
     "output_type": "display_data"
    }
   ],
   "source": [
    "# błąd w nazwie kolumny, drobne poprawki\n",
    "df = rename(df, c(\"meausre\"=\"measure\"))\n",
    "df[4, \"measure\"] = \"amplitude/power\" # stymulacja TMS faktycznie wpływa na amplitudę oscylacji\n",
    "df$measure = as.factor(df$measure)\n",
    "head(df)"
   ]
  },
  {
   "cell_type": "code",
   "execution_count": 89,
   "metadata": {
    "collapsed": false
   },
   "outputs": [
    {
     "data": {
      "text/html": [
       "\"integer\""
      ],
      "text/latex": [
       "\"integer\""
      ],
      "text/markdown": [
       "\"integer\""
      ],
      "text/plain": [
       "[1] \"integer\""
      ]
     },
     "metadata": {},
     "output_type": "display_data"
    }
   ],
   "source": [
    "typeof(df$measure[1])"
   ]
  },
  {
   "cell_type": "markdown",
   "metadata": {},
   "source": [
    "Jako ostatnią analizę sprawdzam czy różnią się od siebie efekty fazy i amplitudy:"
   ]
  },
  {
   "cell_type": "code",
   "execution_count": 90,
   "metadata": {
    "collapsed": false
   },
   "outputs": [
    {
     "data": {
      "text/plain": [
       "\n",
       "Multivariate Meta-Analysis Model (k = 11; method: REML)\n",
       "\n",
       "Variance Components: \n",
       "\n",
       "            estim    sqrt  nlvls  fixed  factor\n",
       "sigma^2    0.5041  0.7100      7     no   study\n",
       "\n",
       "Test for Residual Heterogeneity: \n",
       "QE(df = 9) = 27.9462, p-val = 0.0010\n",
       "\n",
       "Test of Moderators (coefficient(s) 2): \n",
       "QM(df = 1) = 1.8013, p-val = 0.1796\n",
       "\n",
       "Model Results:\n",
       "\n",
       "              estimate      se     zval    pval    ci.lb   ci.ub     \n",
       "intrcpt         1.7150  0.3479   4.9298  <.0001   1.0332  2.3968  ***\n",
       "measurephase   -0.5081  0.3786  -1.3421  0.1796  -1.2501  0.2339     \n",
       "\n",
       "---\n",
       "Signif. codes:  0 '***' 0.001 '**' 0.01 '*' 0.05 '.' 0.1 ' ' 1 \n"
      ]
     },
     "metadata": {},
     "output_type": "display_data"
    }
   ],
   "source": [
    "rma.mv(d, var, mods= ~ measure, random = ~ 1 | study, data=df)"
   ]
  },
  {
   "cell_type": "markdown",
   "metadata": {},
   "source": [
    "Miara oscylacji (amplituda vs faza) nie jest istotnym moderatorem.\n",
    "Co ciekawe, istotnym moderatorem jest rok publikacji - nowe badania prezentują słabsze efekty:"
   ]
  },
  {
   "cell_type": "code",
   "execution_count": 98,
   "metadata": {
    "collapsed": false
   },
   "outputs": [
    {
     "data": {
      "text/plain": [
       "\n",
       "Multivariate Meta-Analysis Model (k = 11; method: REML)\n",
       "\n",
       "Variance Components: \n",
       "\n",
       "            estim    sqrt  nlvls  fixed  factor\n",
       "sigma^2    0.2503  0.5003      7     no   study\n",
       "\n",
       "Test for Residual Heterogeneity: \n",
       "QE(df = 9) = 14.8793, p-val = 0.0943\n",
       "\n",
       "Test of Moderators (coefficient(s) 2): \n",
       "QM(df = 1) = 8.0455, p-val = 0.0046\n",
       "\n",
       "Model Results:\n",
       "\n",
       "         estimate        se     zval    pval     ci.lb     ci.ub    \n",
       "intrcpt  513.4785  180.5063   2.8447  0.0044  159.6927  867.2643  **\n",
       "year      -0.2548    0.0898  -2.8365  0.0046   -0.4309   -0.0788  **\n",
       "\n",
       "---\n",
       "Signif. codes:  0 '***' 0.001 '**' 0.01 '*' 0.05 '.' 0.1 ' ' 1 \n"
      ]
     },
     "metadata": {},
     "output_type": "display_data"
    }
   ],
   "source": [
    "rma.mv(d, var, mods= ~ year, random = ~ 1 | study, data=df)"
   ]
  },
  {
   "cell_type": "markdown",
   "metadata": {},
   "source": [
    "Ale efekt ten najprawdopodobniej opiera się przede wszystkim na jednym badaniu z 2004 roku o nadzwyczaj entuzjastycznych wynikach:"
   ]
  },
  {
   "cell_type": "code",
   "execution_count": 96,
   "metadata": {
    "collapsed": false
   },
   "outputs": [
    {
     "data": {
      "image/png": "[encoded data removed]",
      "text/plain": [
       "plot without title"
      ]
     },
     "metadata": {
      "image/svg+xml": {
       "isolated": true
      }
     },
     "output_type": "display_data"
    }
   ],
   "source": [
    "library(ggplot2)\n",
    "options(repr.plot.width=6, repr.plot.height=3)\n",
    "p = ggplot(df, aes(year, d, color=measure))\n",
    "p + geom_point()"
   ]
  },
  {
   "cell_type": "markdown",
   "metadata": {},
   "source": [
    "## Funnel plot"
   ]
  },
  {
   "cell_type": "code",
   "execution_count": 103,
   "metadata": {
    "collapsed": false
   },
   "outputs": [
    {
     "data": {
      "image/png": "[encoded data removed]",
      "text/plain": [
       "plot without title"
      ]
     },
     "metadata": {
      "image/svg+xml": {
       "isolated": true
      }
     },
     "output_type": "display_data"
    }
   ],
   "source": [
    "library(metafor)\n",
    "options(repr.plot.width=5, repr.plot.height=6)\n",
    "funnel(mdl)"
   ]
  },
  {
   "cell_type": "markdown",
   "metadata": {},
   "source": [
    "Wykres sugeruje efekt szuflady (chociaż sugestia ta jest delikatna - jeden punkt daje wrażenie liniowej zależności)"
   ]
  },
  {
   "cell_type": "code",
   "execution_count": null,
   "metadata": {
    "collapsed": true
   },
   "outputs": [],
   "source": []
  }
 ],
 "metadata": {
  "anaconda-cloud": {},
  "kernelspec": {
   "display_name": "R",
   "language": "R",
   "name": "ir"
  },
  "language_info": {
   "codemirror_mode": "r",
   "file_extension": ".r",
   "mimetype": "text/x-r-source",
   "name": "R",
   "pygments_lexer": "r",
   "version": "3.3.0"
  }
 },
 "nbformat": 4,
 "nbformat_minor": 0
}
